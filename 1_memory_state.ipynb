{
 "cells": [
  {
   "cell_type": "code",
   "execution_count": 10,
   "metadata": {},
   "outputs": [],
   "source": [
    "import uuid\n",
    "from langgraph.store.memory import InMemoryStore\n",
    "in_memory_store = InMemoryStore()"
   ]
  },
  {
   "cell_type": "code",
   "execution_count": 11,
   "metadata": {},
   "outputs": [],
   "source": [
    "# Namespace for the memory to save\n",
    "user_id = \"1\"\n",
    "name_space = (user_id, \"memories\")\n",
    "\n",
    "# Saving the memory to namespace as key and value\n",
    "key = str(uuid.uuid4())\n",
    "\n",
    "# Value has to be Dict\n",
    "value = {\"food_preference\":\"I like Idly\"}\n",
    "\n",
    "#Save the memory\n",
    "in_memory_store.put(name_space, key, value)"
   ]
  },
  {
   "cell_type": "code",
   "execution_count": 12,
   "metadata": {},
   "outputs": [
    {
     "name": "stdout",
     "output_type": "stream",
     "text": [
      "[Item(namespace=['1', 'memories'], key='f9dd867c-4ef4-47e5-b845-0fa92ca78eb9', value={'food_preference': 'I like Idly'}, created_at='2025-03-04T11:35:05.980249+00:00', updated_at='2025-03-04T11:35:05.980256+00:00', score=None)]\n"
     ]
    }
   ],
   "source": [
    "memories = in_memory_store.search(name_space)\n",
    "print(memories)"
   ]
  },
  {
   "cell_type": "code",
   "execution_count": 17,
   "metadata": {},
   "outputs": [
    {
     "data": {
      "text/plain": [
       "'I like Idly'"
      ]
     },
     "execution_count": 17,
     "metadata": {},
     "output_type": "execute_result"
    }
   ],
   "source": [
    "memories[0].value.get('food_preference')"
   ]
  },
  {
   "cell_type": "code",
   "execution_count": null,
   "metadata": {},
   "outputs": [],
   "source": []
  }
 ],
 "metadata": {
  "kernelspec": {
   "display_name": "Python 3",
   "language": "python",
   "name": "python3"
  },
  "language_info": {
   "codemirror_mode": {
    "name": "ipython",
    "version": 3
   },
   "file_extension": ".py",
   "mimetype": "text/x-python",
   "name": "python",
   "nbconvert_exporter": "python",
   "pygments_lexer": "ipython3",
   "version": "3.13.1"
  }
 },
 "nbformat": 4,
 "nbformat_minor": 2
}
