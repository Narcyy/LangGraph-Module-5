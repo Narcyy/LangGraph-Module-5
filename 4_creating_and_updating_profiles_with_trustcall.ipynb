{
 "cells": [
  {
   "cell_type": "code",
   "execution_count": 14,
   "metadata": {},
   "outputs": [
    {
     "data": {
      "text/plain": [
       "{'messages': [AIMessage(content='', additional_kwargs={'tool_calls': [{'id': 'call_hMX3rIRPApzkphpX7xwKXM9U', 'function': {'arguments': '{\"user_name\":\"Lance\",\"interests\":[\"biking\",\"San Francisco\"]}', 'name': 'UserProfile'}, 'type': 'function'}], 'refusal': None}, response_metadata={'token_usage': {'completion_tokens': 18, 'prompt_tokens': 122, 'total_tokens': 140, 'completion_tokens_details': {'accepted_prediction_tokens': 0, 'audio_tokens': 0, 'reasoning_tokens': 0, 'rejected_prediction_tokens': 0}, 'prompt_tokens_details': {'audio_tokens': 0, 'cached_tokens': 0}}, 'model_name': 'gpt-4o-mini-2024-07-18', 'system_fingerprint': 'fp_06737a9306', 'finish_reason': 'stop', 'logprobs': None}, id='run-fa7ea9df-2391-4fb3-97ac-36a81f1a1422-0', tool_calls=[{'name': 'UserProfile', 'args': {'user_name': 'Lance', 'interests': ['biking', 'San Francisco']}, 'id': 'call_hMX3rIRPApzkphpX7xwKXM9U', 'type': 'tool_call'}], usage_metadata={'input_tokens': 122, 'output_tokens': 18, 'total_tokens': 140, 'input_token_details': {'audio': 0, 'cache_read': 0}, 'output_token_details': {'audio': 0, 'reasoning': 0}})],\n",
       " 'responses': [UserProfile(user_name='Lance', interests=['biking', 'San Francisco'])],\n",
       " 'response_metadata': [{'id': 'call_hMX3rIRPApzkphpX7xwKXM9U'}],\n",
       " 'attempts': 1}"
      ]
     },
     "execution_count": 14,
     "metadata": {},
     "output_type": "execute_result"
    }
   ],
   "source": [
    "from trustcall import create_extractor\n",
    "from pydantic import BaseModel, Field\n",
    "from typing import List\n",
    "from langchain_openai import ChatOpenAI\n",
    "from langchain_core.messages import HumanMessage, SystemMessage, AIMessage\n",
    "\n",
    "conversation = [HumanMessage(content=\"Hi, I'm Lance.\"), \n",
    "                AIMessage(content=\"Nice to meet you, Lance.\"), \n",
    "                HumanMessage(content=\"I really like biking around San Francisco.\")]\n",
    "\n",
    "# Schema\n",
    "class UserProfile(BaseModel):\n",
    "    \"\"\" User profile schema with typed fields\"\"\"\n",
    "    user_name: str = Field(description=\"The user's preferred name\")\n",
    "    interests: List[str]\n",
    "\n",
    "model = ChatOpenAI(model = \"gpt-4o-mini\")\n",
    "\n",
    "# Create trustcall extractor\n",
    "trustcall_extractor = create_extractor(\n",
    "    model,\n",
    "    tools = [UserProfile],\n",
    "    tool_choice=\"UserProfile\"\n",
    ")\n",
    "\n",
    "# Instruction\n",
    "system_message = \"Extract the user profile form the following converstion\"\n",
    "\n",
    "# Invoke the extractor\n",
    "result = trustcall_extractor.invoke({\"messages\":[SystemMessage(content = system_message)]+ conversation})\n",
    "result\n"
   ]
  },
  {
   "cell_type": "code",
   "execution_count": 7,
   "metadata": {},
   "outputs": [
    {
     "name": "stdout",
     "output_type": "stream",
     "text": [
      "==================================\u001b[1m Ai Message \u001b[0m==================================\n",
      "Tool Calls:\n",
      "  UserProfile (call_rmX8XIN0q7j8YIcgLp1eMQXG)\n",
      " Call ID: call_rmX8XIN0q7j8YIcgLp1eMQXG\n",
      "  Args:\n",
      "    user_name: Lance\n",
      "    interests: ['biking', 'San Francisco']\n"
     ]
    }
   ],
   "source": [
    "from pprint import pprint\n",
    "for m in result[\"messages\"]:\n",
    "    m.pretty_print()"
   ]
  },
  {
   "cell_type": "code",
   "execution_count": 15,
   "metadata": {},
   "outputs": [
    {
     "data": {
      "text/plain": [
       "{'user_name': 'Lance', 'interests': ['biking', 'San Francisco']}"
      ]
     },
     "execution_count": 15,
     "metadata": {},
     "output_type": "execute_result"
    }
   ],
   "source": [
    "schema = result[\"responses\"]\n",
    "schema[0].model_dump()"
   ]
  },
  {
   "cell_type": "code",
   "execution_count": 12,
   "metadata": {},
   "outputs": [],
   "source": [
    "# Update the conversation\n",
    "updated_conversation = [HumanMessage(content=\"Hi, I'm Lance.\"), \n",
    "                        AIMessage(content=\"Nice to meet you, Lance.\"), \n",
    "                        HumanMessage(content=\"I really like biking around San Francisco.\"),\n",
    "                        AIMessage(content=\"San Francisco is a great city! Where do you go after biking?\"),\n",
    "                        HumanMessage(content=\"I really like to go to a bakery after biking.\"),]\n",
    "\n",
    "# Update the instructions\n",
    "system_message = f\"\"\" Update the memory (JSON doc) to incorporate new information from the following conversation.\"\"\"\n",
    "\n",
    "# Invoke the extractor with the update instruction and existing profile with the corrsponding tool name (UserProfile)\n",
    "result = trustcall_extractor.invoke({\"messages\": [SystemMessage(content=system_message)]+updated_conversation},{\"exsiting\": {\"UserProfile\": schema[0].model_dump()}})"
   ]
  },
  {
   "cell_type": "code",
   "execution_count": 13,
   "metadata": {},
   "outputs": [
    {
     "name": "stdout",
     "output_type": "stream",
     "text": [
      "==================================\u001b[1m Ai Message \u001b[0m==================================\n",
      "Tool Calls:\n",
      "  UserProfile (call_zDAjJUE8ZIK2JsM6dpLkEYVT)\n",
      " Call ID: call_zDAjJUE8ZIK2JsM6dpLkEYVT\n",
      "  Args:\n",
      "    user_name: Lance\n",
      "    interests: ['biking', 'baking', 'visiting bakeries']\n"
     ]
    }
   ],
   "source": [
    "for m in result[\"messages\"]:\n",
    "    m.pretty_print()"
   ]
  },
  {
   "cell_type": "code",
   "execution_count": null,
   "metadata": {},
   "outputs": [],
   "source": []
  }
 ],
 "metadata": {
  "kernelspec": {
   "display_name": "Python 3",
   "language": "python",
   "name": "python3"
  },
  "language_info": {
   "codemirror_mode": {
    "name": "ipython",
    "version": 3
   },
   "file_extension": ".py",
   "mimetype": "text/x-python",
   "name": "python",
   "nbconvert_exporter": "python",
   "pygments_lexer": "ipython3",
   "version": "3.13.1"
  }
 },
 "nbformat": 4,
 "nbformat_minor": 2
}
