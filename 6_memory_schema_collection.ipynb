{
 "cells": [
  {
   "cell_type": "code",
   "execution_count": 3,
   "metadata": {},
   "outputs": [],
   "source": [
    "from pydantic import BaseModel, Field\n",
    "\n",
    "class Memory(BaseModel):\n",
    "    content: str = Field(description=\"The main content of the memory\")\n",
    "\n",
    "class MemoryCol(BaseModel):\n",
    "    memories: list[Memory] = Field(description=\"A list of memories about hte user.\")\n",
    "\n"
   ]
  },
  {
   "cell_type": "code",
   "execution_count": 5,
   "metadata": {},
   "outputs": [
    {
     "data": {
      "text/plain": [
       "[Memory(content=\"User's name is Lance.\"),\n",
       " Memory(content='User likes to bike.')]"
      ]
     },
     "execution_count": 5,
     "metadata": {},
     "output_type": "execute_result"
    }
   ],
   "source": [
    "from langchain_core.messages import HumanMessage\n",
    "from langchain_openai import ChatOpenAI\n",
    "\n",
    "model = ChatOpenAI(model=\"gpt-4o-mini\")\n",
    " \n",
    "# Blind schema at model\n",
    "model_with_structure = model.with_structured_output(MemoryCol)\n",
    "\n",
    "# Invoke the model to produce strutured output that matches the schema\n",
    "memory_collection = model_with_structure.invoke([HumanMessage(\"My name is Lance. I like to bike\")])\n",
    "memory_collection.memories"
   ]
  },
  {
   "cell_type": "code",
   "execution_count": 7,
   "metadata": {},
   "outputs": [],
   "source": [
    "import uuid\n",
    "from langgraph.store.memory import InMemoryStore\n",
    "\n",
    "# Initialize the in-memory store\n",
    "in_memory_store=InMemoryStore()\n",
    "\n",
    "# Namespace for the memory to save\n",
    "user_id=\"1\"\n",
    "namespace=(user_id, \"memories\")\n",
    "\n",
    "# Save a memory to namespace as key and value\n",
    "key = str(uuid.uuid4())\n",
    "value = memory_collection.memories[0].model_dump()\n",
    "in_memory_store.put(namespace, key, value)\n",
    "\n",
    "key = str(uuid.uuid4())\n",
    "value = memory_collection.memories[1].model_dump()\n",
    "in_memory_store.put(namespace, key, value)\n"
   ]
  },
  {
   "cell_type": "code",
   "execution_count": 8,
   "metadata": {},
   "outputs": [
    {
     "name": "stdout",
     "output_type": "stream",
     "text": [
      "{'namespace': ['1', 'memories'], 'key': '0625131f-9e04-4474-b109-bf8800c84bef', 'value': {'content': \"User's name is Lance.\"}, 'created_at': '2025-03-07T13:41:57.993288+00:00', 'updated_at': '2025-03-07T13:41:57.993291+00:00', 'score': None}\n",
      "{'namespace': ['1', 'memories'], 'key': '996e5955-c50e-46c0-8c71-81c097331ef8', 'value': {'content': 'User likes to bike.'}, 'created_at': '2025-03-07T13:41:57.993449+00:00', 'updated_at': '2025-03-07T13:41:57.993450+00:00', 'score': None}\n"
     ]
    }
   ],
   "source": [
    "for m in in_memory_store.search(namespace):\n",
    "    print(m.dict())"
   ]
  },
  {
   "cell_type": "code",
   "execution_count": 9,
   "metadata": {},
   "outputs": [],
   "source": [
    "from trustcall import create_extractor\n",
    "\n",
    "# Create the extractor\n",
    "trustcall_extractor = create_extractor(\n",
    "    model,\n",
    "    tools = [Memory],\n",
    "    tool_choice=\"Memory\",\n",
    "    enable_inserts = True,\n",
    ")"
   ]
  },
  {
   "cell_type": "code",
   "execution_count": 10,
   "metadata": {},
   "outputs": [],
   "source": [
    "from langchain_core.messages import HumanMessage, SystemMessage, AIMessage\n",
    "\n",
    "# Instruction\n",
    "instructions = \"Extract memories\"\n",
    "\n",
    " # Conversation \n",
    "conversation = [HumanMessage(content=\"Hi, I'm Narcy.\"), \n",
    "                AIMessage(content=\"Nice to meet you, Narcy.\"), \n",
    "                HumanMessage(content=\"This morning I had a nice bike ride in Hyderabad.\")]\n",
    "\n",
    "# Invoke the extractor\n",
    "result  = trustcall_extractor.invoke({\"messages\":[SystemMessage(content=instructions)]+ conversation})\n"
   ]
  },
  {
   "cell_type": "code",
   "execution_count": 11,
   "metadata": {},
   "outputs": [
    {
     "name": "stdout",
     "output_type": "stream",
     "text": [
      "==================================\u001b[1m Ai Message \u001b[0m==================================\n",
      "Tool Calls:\n",
      "  Memory (call_FtRw96I3zr9U2mb4wNvq77Q2)\n",
      " Call ID: call_FtRw96I3zr9U2mb4wNvq77Q2\n",
      "  Args:\n",
      "    content: Narcy had a nice bike ride in Hyderabad this morning.\n"
     ]
    }
   ],
   "source": [
    "for m in result['messages']:\n",
    "    m.pretty_print()"
   ]
  },
  {
   "cell_type": "code",
   "execution_count": 16,
   "metadata": {},
   "outputs": [
    {
     "data": {
      "text/plain": [
       "[('0',\n",
       "  'Memory',\n",
       "  {'content': 'Narcy had a nice bike ride in Hyderabad this morning. Later, I went to Tartine and ate a croissant. I was thinking about my Japan, and going back this winter!'}),\n",
       " ('1',\n",
       "  'Memory',\n",
       "  {'content': 'Narcy had a nice bike ride in Hyderabad this morning. Later, I went to Tartine and ate a croissant. I was thinking about my Japan, and going back this winter!'})]"
      ]
     },
     "execution_count": 16,
     "metadata": {},
     "output_type": "execute_result"
    }
   ],
   "source": [
    "# Update the conversation\n",
    "updated_conversation = [AIMessage(content=\"That's great, did you do after?\"), \n",
    "                        HumanMessage(content=\"I went to Tartine and ate a croissant.\"),                        \n",
    "                        AIMessage(content=\"What else is on your mind?\"),\n",
    "                        HumanMessage(content=\"I was thinking about my Japan, and going back this winter!\"),]\n",
    "\n",
    "system_message = \"Update existing memories and create new ones based on the following conversation\"\n",
    "\n",
    "tool_name = \"Memory\"\n",
    "existing_memories = [(str(i), tool_name, memory.model_dump()) for i, memory in enumerate(result[\"responses\"])] if result['responses'] else None\n",
    "existing_memories"
   ]
  },
  {
   "cell_type": "code",
   "execution_count": 17,
   "metadata": {},
   "outputs": [],
   "source": [
    "# Invoke the extractor with updated convo\n",
    "result = trustcall_extractor.invoke({\"messages\": updated_conversation, \n",
    "                                     \"existing\":existing_memories})"
   ]
  },
  {
   "cell_type": "code",
   "execution_count": 18,
   "metadata": {},
   "outputs": [
    {
     "name": "stdout",
     "output_type": "stream",
     "text": [
      "==================================\u001b[1m Ai Message \u001b[0m==================================\n",
      "Tool Calls:\n",
      "  Memory (call_fWDoObj2Hx675h2gYXu10QAG)\n",
      " Call ID: call_fWDoObj2Hx675h2gYXu10QAG\n",
      "  Args:\n",
      "    content: I went to Tartine and ate a croissant.\n",
      "  Memory (call_Ev1LkAZuGTEIVvu3HvMuy0DV)\n",
      " Call ID: call_Ev1LkAZuGTEIVvu3HvMuy0DV\n",
      "  Args:\n",
      "    content: I was thinking about my Japan, and going back this winter!\n"
     ]
    }
   ],
   "source": [
    "for m in result[\"messages\"]:\n",
    "    m.pretty_print()"
   ]
  },
  {
   "cell_type": "code",
   "execution_count": 19,
   "metadata": {},
   "outputs": [
    {
     "name": "stdout",
     "output_type": "stream",
     "text": [
      "content='I went to Tartine and ate a croissant.'\n",
      "content='I was thinking about my Japan, and going back this winter!'\n"
     ]
    }
   ],
   "source": [
    "# Response contains the memories\n",
    "for m in result[\"responses\"]:\n",
    "    print(m)"
   ]
  },
  {
   "cell_type": "code",
   "execution_count": null,
   "metadata": {},
   "outputs": [],
   "source": []
  }
 ],
 "metadata": {
  "kernelspec": {
   "display_name": "Python 3",
   "language": "python",
   "name": "python3"
  },
  "language_info": {
   "codemirror_mode": {
    "name": "ipython",
    "version": 3
   },
   "file_extension": ".py",
   "mimetype": "text/x-python",
   "name": "python",
   "nbconvert_exporter": "python",
   "pygments_lexer": "ipython3",
   "version": "3.13.1"
  }
 },
 "nbformat": 4,
 "nbformat_minor": 2
}
